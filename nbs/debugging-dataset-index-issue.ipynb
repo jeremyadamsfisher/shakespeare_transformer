{
 "cells": [
  {
   "cell_type": "code",
   "execution_count": 1,
   "id": "52450351-5911-4abb-a37f-38f31c55dad7",
   "metadata": {
    "tags": []
   },
   "outputs": [
    {
     "name": "stderr",
     "output_type": "stream",
     "text": [
      "/home/jeremy/micromamba/envs/shakespeare/lib/python3.8/site-packages/torchvision/io/image.py:13: UserWarning: Failed to load image Python extension: '/home/jeremy/micromamba/envs/shakespeare/lib/python3.8/site-packages/torchvision/image.so: undefined symbol: _ZN3c106detail23torchInternalAssertFailEPKcS2_jS2_RKSs'If you don't plan on using image functionality from `torchvision.io`, you can ignore this warning. Otherwise, there might be something wrong with your environment. Did you have `libjpeg` or `libpng` installed before building `torchvision` from source?\n",
      "  warn(\n",
      "/home/jeremy/micromamba/envs/shakespeare/lib/python3.8/site-packages/tqdm/auto.py:21: TqdmWarning: IProgress not found. Please update jupyter and ipywidgets. See https://ipywidgets.readthedocs.io/en/stable/user_install.html\n",
      "  from .autonotebook import tqdm as notebook_tqdm\n"
     ]
    }
   ],
   "source": [
    "from gpt.config import gpt_micro_char as config\n",
    "from gpt.wikipedia import WikipediaDataModule\n",
    "\n",
    "dm = WikipediaDataModule(config)"
   ]
  },
  {
   "cell_type": "code",
   "execution_count": 2,
   "id": "356623b6-b3a5-4d84-aa5b-2a7e4a76fcf8",
   "metadata": {
    "tags": []
   },
   "outputs": [
    {
     "data": {
      "text/plain": [
       "<gpt.wikipedia.WikipediaDataModule at 0x7fae50633f70>"
      ]
     },
     "execution_count": 2,
     "metadata": {},
     "output_type": "execute_result"
    }
   ],
   "source": [
    "dm"
   ]
  },
  {
   "cell_type": "code",
   "execution_count": 3,
   "id": "e518f478-709d-4454-b249-3f6bf673f428",
   "metadata": {
    "tags": []
   },
   "outputs": [
    {
     "name": "stderr",
     "output_type": "stream",
     "text": [
      "\u001b[32m2023-11-05 10:23:34.022\u001b[0m | \u001b[1mINFO    \u001b[0m | \u001b[36mgpt.wikipedia\u001b[0m:\u001b[36m_setup\u001b[0m:\u001b[36m102\u001b[0m - \u001b[1mtokenizing wikipedia\u001b[0m\n",
      "Map: 100%|█| 10/10 [00:00<00:00, 61.07 examples/\n",
      "Computing dataset index: 100%|█| 9/9 [00:00<00:0\n",
      "Computing dataset index: 100%|█| 1/1 [00:00<00:0\n"
     ]
    }
   ],
   "source": [
    "dm.setup()"
   ]
  },
  {
   "cell_type": "code",
   "execution_count": 4,
   "id": "6ed66c9e-c38c-4b24-91a1-b2f44adab343",
   "metadata": {
    "tags": []
   },
   "outputs": [],
   "source": [
    "trn = dm.train_dataloader()"
   ]
  },
  {
   "cell_type": "code",
   "execution_count": 5,
   "id": "fc2c5ab4-65d4-4049-85e2-ed1807373c53",
   "metadata": {
    "tags": []
   },
   "outputs": [
    {
     "data": {
      "text/plain": [
       "['foo', 'oob', 'oba', 'bar']"
      ]
     },
     "execution_count": 5,
     "metadata": {},
     "output_type": "execute_result"
    }
   ],
   "source": [
    "def kmers(seq, k):\n",
    "    kmers_ = []\n",
    "    for i in range(len(seq) - k + 1):\n",
    "        kmers_.append(seq[i:i+k])\n",
    "    return kmers_\n",
    "\n",
    "kmers(\"foobar\", 3)"
   ]
  },
  {
   "cell_type": "code",
   "execution_count": 6,
   "id": "2ead68b0-c689-47c0-a8c6-7d69a11e0695",
   "metadata": {
    "tags": []
   },
   "outputs": [],
   "source": [
    "dd = trn.dataset"
   ]
  },
  {
   "cell_type": "code",
   "execution_count": 7,
   "id": "fbd70f2e-5b21-47d6-95b8-1b4e102df9e3",
   "metadata": {
    "tags": []
   },
   "outputs": [
    {
     "data": {
      "text/plain": [
       "32"
      ]
     },
     "execution_count": 7,
     "metadata": {},
     "output_type": "execute_result"
    }
   ],
   "source": [
    "config.block_size"
   ]
  },
  {
   "cell_type": "code",
   "execution_count": null,
   "id": "d742eb4b-b95c-4fd5-9e50-c5ad0d562cf3",
   "metadata": {
    "tags": []
   },
   "outputs": [],
   "source": [
    "from tqdm import tqdm\n",
    "from bisect import bisect"
   ]
  },
  {
   "cell_type": "code",
   "execution_count": null,
   "id": "bb1aefe7-5ebb-4d1a-b06e-623cbaa1cab5",
   "metadata": {
    "tags": []
   },
   "outputs": [],
   "source": [
    "iter_dd = iter(dd)\n",
    "for _, row in enumerate(dd.ds):\n",
    "    tokens = row[\"tokens\"]\n",
    "    blocks = kmers(tokens, config.block_size+1)\n",
    "    for _, block in tqdm(enumerate(blocks), unit=\"block\"):\n",
    "        x, y = next(iter_dd)\n",
    "        xb = [*x, y[-1]]\n",
    "        assert block == xb"
   ]
  },
  {
   "cell_type": "code",
   "execution_count": 10,
   "id": "9f0738b9-0ce5-42f7-ae2e-12b738729051",
   "metadata": {
    "tags": []
   },
   "outputs": [
    {
     "data": {
      "text/plain": [
       "([71,\n",
       "  27,\n",
       "  40,\n",
       "  27,\n",
       "  32,\n",
       "  27,\n",
       "  11,\n",
       "  15,\n",
       "  12,\n",
       "  11,\n",
       "  55,\n",
       "  1,\n",
       "  11,\n",
       "  27,\n",
       "  11,\n",
       "  1,\n",
       "  7,\n",
       "  27,\n",
       "  7,\n",
       "  53,\n",
       "  11,\n",
       "  55,\n",
       "  5,\n",
       "  11,\n",
       "  7,\n",
       "  8,\n",
       "  53,\n",
       "  11,\n",
       "  1,\n",
       "  47,\n",
       "  70,\n",
       "  7],\n",
       " [27,\n",
       "  40,\n",
       "  27,\n",
       "  32,\n",
       "  27,\n",
       "  11,\n",
       "  15,\n",
       "  12,\n",
       "  11,\n",
       "  55,\n",
       "  1,\n",
       "  11,\n",
       "  27,\n",
       "  11,\n",
       "  1,\n",
       "  7,\n",
       "  27,\n",
       "  7,\n",
       "  53,\n",
       "  11,\n",
       "  55,\n",
       "  5,\n",
       "  11,\n",
       "  7,\n",
       "  8,\n",
       "  53,\n",
       "  11,\n",
       "  1,\n",
       "  47,\n",
       "  70,\n",
       "  7,\n",
       "  8])"
      ]
     },
     "execution_count": 10,
     "metadata": {},
     "output_type": "execute_result"
    }
   ],
   "source": [
    "dd[dd.index[0]+1]"
   ]
  },
  {
   "cell_type": "code",
   "execution_count": null,
   "id": "d06df167-eaea-4df9-850a-0ba1cadf1ab9",
   "metadata": {
    "tags": []
   },
   "outputs": [],
   "source": [
    "from bisect import bisect_left"
   ]
  },
  {
   "cell_type": "code",
   "execution_count": null,
   "id": "41f4f47a-0dd2-443a-beab-12222cb04e47",
   "metadata": {
    "tags": []
   },
   "outputs": [],
   "source": [
    "bisect_left([5, 10, 15], 5), bisect_left([5, 10, 15], 6),  bisect_left([5, 10, 15], 10)"
   ]
  },
  {
   "cell_type": "code",
   "execution_count": null,
   "id": "13171acd-4641-48c3-8b6b-efc59af67b1f",
   "metadata": {
    "tags": []
   },
   "outputs": [],
   "source": [
    "dd.index[0]"
   ]
  },
  {
   "cell_type": "code",
   "execution_count": null,
   "id": "e33e6450-3409-4814-af79-64cc9e6bcb54",
   "metadata": {
    "tags": []
   },
   "outputs": [],
   "source": [
    "dd._get_idx_and_offset(22241), dd._get_idx_and_offset(22242), dd._get_idx_and_offset(22243)"
   ]
  },
  {
   "cell_type": "code",
   "execution_count": null,
   "id": "93456788-3e69-4734-ba34-1e8e9802bb59",
   "metadata": {
    "tags": []
   },
   "outputs": [],
   "source": [
    "len(xb), len(block)"
   ]
  },
  {
   "cell_type": "code",
   "execution_count": null,
   "id": "a60c472d-ef9d-452f-8639-6a5a1fbeda7d",
   "metadata": {
    "tags": []
   },
   "outputs": [],
   "source": [
    "dm.decode(xb), dm.decode(block)"
   ]
  },
  {
   "cell_type": "code",
   "execution_count": null,
   "id": "046f2c29-b8c8-46d9-930c-0b32cc3fe73d",
   "metadata": {
    "tags": []
   },
   "outputs": [],
   "source": [
    "bisect(dd.index, 1)"
   ]
  },
  {
   "cell_type": "code",
   "execution_count": null,
   "id": "672fdb38-0a53-43f3-abca-0d144705f093",
   "metadata": {
    "tags": []
   },
   "outputs": [],
   "source": [
    "i, j"
   ]
  },
  {
   "cell_type": "code",
   "execution_count": null,
   "id": "6d70792d-3446-47f6-93dc-874e6a884b64",
   "metadata": {
    "tags": []
   },
   "outputs": [],
   "source": [
    "dm.decode(dd.ds[0][\"tokens\"])"
   ]
  },
  {
   "cell_type": "code",
   "execution_count": null,
   "id": "84308c83-cc08-4eea-b5d3-a311c53dbe3d",
   "metadata": {
    "tags": []
   },
   "outputs": [],
   "source": [
    "dm.decode(dd.ds[1][\"tokens\"])"
   ]
  },
  {
   "cell_type": "code",
   "execution_count": null,
   "id": "d10df322-90ba-4ce7-8d58-47479d42485b",
   "metadata": {
    "tags": []
   },
   "outputs": [],
   "source": [
    "tokens = dd.ds[0][\"tokens\"]\n",
    "t0 = len(tokens)\n",
    "t0"
   ]
  },
  {
   "cell_type": "code",
   "execution_count": null,
   "id": "6ec77c31-7f86-4d96-b3f9-7b8da22b7b34",
   "metadata": {
    "tags": []
   },
   "outputs": [],
   "source": [
    "tokens = dd.ds[1][\"tokens\"]\n",
    "t1 = len(tokens)\n",
    "t1, t0+t1"
   ]
  },
  {
   "cell_type": "code",
   "execution_count": null,
   "id": "1110055e-b001-485a-9ec1-81f085dc15e5",
   "metadata": {
    "tags": []
   },
   "outputs": [],
   "source": [
    "tokens = dd.ds[2][\"tokens\"]\n",
    "t2 = len(tokens)\n",
    "t2"
   ]
  },
  {
   "cell_type": "code",
   "execution_count": null,
   "id": "2fd4bfba-a5ab-4e74-b77a-747b9d9c705d",
   "metadata": {
    "tags": []
   },
   "outputs": [],
   "source": [
    "dd.ds[0]"
   ]
  },
  {
   "cell_type": "code",
   "execution_count": null,
   "id": "7e4b0807-90e8-4333-a1b6-9fd9c4c3d020",
   "metadata": {
    "tags": []
   },
   "outputs": [],
   "source": [
    "dd.index[:5]"
   ]
  },
  {
   "cell_type": "code",
   "execution_count": null,
   "id": "81ff995f-d50b-489e-804d-99f61c46bc56",
   "metadata": {
    "tags": []
   },
   "outputs": [],
   "source": [
    "assert dd._get_idx_and_offset(9851) == (0, t0 - config.block_size)"
   ]
  },
  {
   "cell_type": "code",
   "execution_count": null,
   "id": "5f18a00d-e936-4cba-8737-6824773bedb0",
   "metadata": {
    "tags": []
   },
   "outputs": [],
   "source": [
    "assert dd._get_idx_and_offset(t0 - config.block_size + 1) == (1, 0)"
   ]
  },
  {
   "cell_type": "code",
   "execution_count": null,
   "id": "e7850476-1a3d-4409-9b32-3ac27744e38a",
   "metadata": {
    "tags": []
   },
   "outputs": [],
   "source": [
    "# IS there an issue with subtracting blocksize X times???\n"
   ]
  },
  {
   "cell_type": "code",
   "execution_count": null,
   "id": "957f3efd-43d2-4683-a2a5-ee8e933ec1fe",
   "metadata": {
    "tags": []
   },
   "outputs": [],
   "source": [
    "dd[1000000000]"
   ]
  },
  {
   "cell_type": "code",
   "execution_count": null,
   "id": "6b871b20-50fc-4e9c-9d16-12eead7b389d",
   "metadata": {},
   "outputs": [],
   "source": []
  }
 ],
 "metadata": {
  "kernelspec": {
   "display_name": "Python 3 (ipykernel)",
   "language": "python",
   "name": "python3"
  },
  "language_info": {
   "codemirror_mode": {
    "name": "ipython",
    "version": 3
   },
   "file_extension": ".py",
   "mimetype": "text/x-python",
   "name": "python",
   "nbconvert_exporter": "python",
   "pygments_lexer": "ipython3",
   "version": "3.8.18"
  }
 },
 "nbformat": 4,
 "nbformat_minor": 5
}
